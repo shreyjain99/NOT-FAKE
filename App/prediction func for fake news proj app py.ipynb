{
 "cells": [
  {
   "cell_type": "code",
   "execution_count": null,
   "id": "28bdd14d",
   "metadata": {},
   "outputs": [],
   "source": [
    "#header,content,model"
   ]
  },
  {
   "cell_type": "markdown",
   "id": "80324015",
   "metadata": {},
   "source": [
    "Coronavirus disease 2019 (COVID-19), also known as the coronavirus, or COVID, is a contagious disease caused by severe acute respiratory syndrome coronavirus 2 (SARS-CoV-2). The first known case was identified in Wuhan, China, in December 2019. The disease has since spread worldwide, leading to an ongoing pandemic.\n",
    "\n",
    "Symptoms of COVID-19 are variable, but often include fever, cough, headache, fatigue, breathing difficulties, and loss of smell and taste.Symptoms may begin one to fourteen days after exposure to the virus. At least a third of people who are infected do not develop noticeable symptoms.Of those people who develop noticeable symptoms enough to be classed as patients, most (81%) develop mild to moderate symptoms (up to mild pneumonia), while 14% develop severe symptoms (dyspnea, hypoxia, or more than 50% lung involvement on imaging), and 5% suffer critical symptoms (respiratory failure, shock, or multiorgan dysfunction).Older people are at a higher risk of developing severe symptoms. Some people continue to experience a range of effects (long COVID) for months after recovery, and damage to organs has been observed. Multi-year studies are underway to further investigate the long-term effects of the disease."
   ]
  },
  {
   "cell_type": "code",
   "execution_count": 2,
   "id": "ae4caabd",
   "metadata": {},
   "outputs": [],
   "source": [
    "header = '''Coronavirus disease 2019 (COVID-19)'''\n",
    "\n",
    "content = '''also known as the coronavirus, or COVID, \n",
    "is a contagious disease caused by severe acute respiratory syndrome coronavirus 2 (SARS-CoV-2). \n",
    "The first known case was identified in Wuhan, China, in December 2019. The disease has since \n",
    "spread worldwide, leading to an ongoing pandemic.'''"
   ]
  },
  {
   "cell_type": "code",
   "execution_count": 11,
   "id": "906d8c96",
   "metadata": {},
   "outputs": [],
   "source": [
    "text = header + \" \" + content\n",
    "\n",
    "text = preprocess(text)"
   ]
  },
  {
   "cell_type": "code",
   "execution_count": null,
   "id": "6a158736",
   "metadata": {},
   "outputs": [],
   "source": [
    "top_10_searches = sim(text)"
   ]
  },
  {
   "cell_type": "code",
   "execution_count": null,
   "id": "5ad9d886",
   "metadata": {},
   "outputs": [],
   "source": [
    "#load word2vec,load corpus, load corpus average w2v, laod libraries \n",
    "\n",
    "\n",
    "if model == \"  \":\n",
    "    #set tokenizer \n",
    "    #set max len\n",
    "    #load model\n",
    "    "
   ]
  },
  {
   "cell_type": "code",
   "execution_count": 12,
   "id": "b4ec9c32",
   "metadata": {},
   "outputs": [
    {
     "data": {
      "text/plain": [
       "47"
      ]
     },
     "execution_count": 12,
     "metadata": {},
     "output_type": "execute_result"
    }
   ],
   "source": [
    "token_text = tokenize(text)\n",
    "\n",
    "if len(token_text) < max_len:\n",
    "    token_text = pad_sequence(token_text,max_len)\n",
    "elif len(token_text) > max_len:\n",
    "    token_text = truncate(token_text,max_len)\n",
    "    \n",
    "final_prob = model.predict(token_text)"
   ]
  },
  {
   "cell_type": "code",
   "execution_count": 14,
   "id": "7052266e",
   "metadata": {},
   "outputs": [
    {
     "data": {
      "text/plain": [
       "['Coronavirus disease 2019 (COVID-19) also known as the coronavirus, or COVID, \\nis a contagious disease caused by severe acute respiratory syndrome coronavirus 2 (SARS-CoV-2)',\n",
       " ' \\nThe first known case was identified in Wuhan, China, in December 2019',\n",
       " ' The disease has since \\nspread worldwide, leading to an ongoing pandemic',\n",
       " '']"
      ]
     },
     "execution_count": 14,
     "metadata": {},
     "output_type": "execute_result"
    }
   ],
   "source": [
    "sentences_split = text.split('.')\n",
    "\n",
    "sentences_array = []\n",
    "for sent in sentences_split:\n",
    "    if len(sent) != 0:\n",
    "        sentences_array.append(sent)\n",
    "\n",
    "\n",
    "\n",
    "sentences_prob = []\n",
    "for sent in sentences_array:\n",
    "    \n",
    "    token_sent = tokenize(sent)\n",
    "    \n",
    "    if len(token_sent) < max_len:\n",
    "        token_sent = pad_sequence(token_sent,max_len)\n",
    "    elif len(token_sent) > max_len:\n",
    "        token_sent = truncate(token_sent,max_len)\n",
    "        \n",
    "    sent_prob = model.predict(token_sent)\n",
    "    sentences_prob.append(sent_prob)"
   ]
  },
  {
   "cell_type": "code",
   "execution_count": null,
   "id": "e95badaf",
   "metadata": {},
   "outputs": [],
   "source": [
    "wv = gensim.models.KeyedVectors.load_word2vec_format(\"word2vec-google-news-300.gz\", binary=True)"
   ]
  },
  {
   "cell_type": "code",
   "execution_count": null,
   "id": "40ef89aa",
   "metadata": {},
   "outputs": [],
   "source": [
    "#calculate once and save\n",
    "\n",
    "# avg w2v\n",
    "def avgw2v(corpus,wv):\n",
    "    \n",
    "    avgw2v_corpus = []\n",
    "    for sentence in corpus:\n",
    "    \n",
    "        vector = [0 for i in range(300)]\n",
    "        sent_list = sentence.split(\" \")\n",
    "    \n",
    "        for word in sent_list:\n",
    "        \n",
    "            if len(word) < 2:\n",
    "                continue\n",
    "            \n",
    "            if word not in wv.vocab:\n",
    "                continue\n",
    "            else:\n",
    "                vector = vector + wv[word]\n",
    "    \n",
    "        avgw2v_corpus.append(vector)\n",
    "    \n",
    "    return avgw2v_corpus"
   ]
  },
  {
   "cell_type": "code",
   "execution_count": null,
   "id": "7c551c7c",
   "metadata": {},
   "outputs": [],
   "source": [
    "def query_w2v(query,wv):\n",
    "    \n",
    "    vector = [0 for i in range(300)]\n",
    "    for word in query.split(\" \"):\n",
    "        \n",
    "        if len(word) < 2:\n",
    "            continue\n",
    "            \n",
    "        if word not in wv.vocab:\n",
    "            continue\n",
    "        else:\n",
    "            vector = vector + wv[word]\n",
    "            \n",
    "    return vector\n",
    "    \n",
    "    \n",
    "    \n",
    "def topksimilar(query_avgw2v,corpus_avgw2v,corpus):\n",
    "\n",
    "    tree = spatial.KDTree(avgw2v_corpus)\n",
    "\n",
    "    distance, idx = tree.query(corpus_avgw2v,k=20,p=2)\n",
    "\n",
    "    top_questions = [corpus[x] for x in idx]\n",
    "    \n",
    "    return top_questions"
   ]
  },
  {
   "cell_type": "code",
   "execution_count": null,
   "id": "7c195321",
   "metadata": {},
   "outputs": [],
   "source": [
    "query_avgw2v = query_w2v(text,wv)\n",
    "\n",
    "top_10_similar = topksimilar(query_avgw2v,corpus_avgw2v,corpus)"
   ]
  }
 ],
 "metadata": {
  "kernelspec": {
   "display_name": "Python 3",
   "language": "python",
   "name": "python3"
  },
  "language_info": {
   "codemirror_mode": {
    "name": "ipython",
    "version": 3
   },
   "file_extension": ".py",
   "mimetype": "text/x-python",
   "name": "python",
   "nbconvert_exporter": "python",
   "pygments_lexer": "ipython3",
   "version": "3.7.10"
  }
 },
 "nbformat": 4,
 "nbformat_minor": 5
}
