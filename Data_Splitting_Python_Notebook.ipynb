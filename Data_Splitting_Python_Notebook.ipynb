{
 "cells": [
  {
   "cell_type": "code",
   "execution_count": 45,
   "metadata": {},
   "outputs": [],
   "source": [
    "import pandas as pd\n",
    "import numpy as np\n",
    "\n",
    "import seaborn as sns\n",
    "from pylab import rcParams\n",
    "import matplotlib.pyplot as plt\n",
    "from matplotlib.ticker import MaxNLocator\n",
    "from matplotlib import rc\n",
    "\n",
    "%matplotlib inline\n",
    "%config InlineBackend.figure_format='retina'\n",
    "\n",
    "sns.set(style='whitegrid', palette='muted', font_scale=1.2)\n",
    "\n",
    "HAPPY_COLORS_PALETTE = [\"#01BEFE\", \"#FFDD00\", \"#FF7D00\", \"#FF006D\", \"#ADFF02\", \"#8F00FF\"]\n",
    "\n",
    "sns.set_palette(sns.color_palette(HAPPY_COLORS_PALETTE))\n",
    "\n",
    "rcParams['figure.figsize'] = 12, 8\n",
    "\n",
    "RANDOM_SEED = 42\n",
    "\n",
    "np.random.seed(RANDOM_SEED)\n"
   ]
  },
  {
   "cell_type": "code",
   "execution_count": 9,
   "metadata": {},
   "outputs": [],
   "source": [
    "data_path = \"C:/Users/Admin/BE PROJECT/Data/final_used_preprocessed.csv\"\n",
    "\n",
    "df = pd.read_csv(data_path)"
   ]
  },
  {
   "cell_type": "code",
   "execution_count": 12,
   "metadata": {},
   "outputs": [],
   "source": [
    "df.drop(labels=\"Unnamed: 0\",axis=1,inplace = True)"
   ]
  },
  {
   "cell_type": "code",
   "execution_count": 30,
   "metadata": {},
   "outputs": [],
   "source": [
    "df.dropna(inplace = True)"
   ]
  },
  {
   "cell_type": "code",
   "execution_count": 31,
   "metadata": {},
   "outputs": [
    {
     "name": "stdout",
     "output_type": "stream",
     "text": [
      "<class 'pandas.core.frame.DataFrame'>\n",
      "Int64Index: 46548 entries, 0 to 46551\n",
      "Data columns (total 2 columns):\n",
      " #   Column  Non-Null Count  Dtype \n",
      "---  ------  --------------  ----- \n",
      " 0   text    46548 non-null  object\n",
      " 1   label   46548 non-null  int64 \n",
      "dtypes: int64(1), object(1)\n",
      "memory usage: 1.1+ MB\n"
     ]
    }
   ],
   "source": [
    "df.info()"
   ]
  },
  {
   "cell_type": "code",
   "execution_count": 32,
   "metadata": {},
   "outputs": [],
   "source": [
    "def make_split(text: str, length: int = 480, buffer: int = 50):\n",
    "    total: List[str] = []\n",
    "    split = text.strip().split()\n",
    "    jump: int = length - buffer\n",
    "    start = 0; end = jump\n",
    "    while start <= len(split):\n",
    "        cur = split[start: end + buffer]\n",
    "        start = end + 1\n",
    "        end = start + jump\n",
    "        total.append(\" \".join(cur))\n",
    "    return total"
   ]
  },
  {
   "cell_type": "code",
   "execution_count": 33,
   "metadata": {},
   "outputs": [],
   "source": [
    "df['split'] = df[\"text\"].apply(make_split)"
   ]
  },
  {
   "cell_type": "code",
   "execution_count": 35,
   "metadata": {},
   "outputs": [
    {
     "data": {
      "text/html": [
       "<div>\n",
       "<style scoped>\n",
       "    .dataframe tbody tr th:only-of-type {\n",
       "        vertical-align: middle;\n",
       "    }\n",
       "\n",
       "    .dataframe tbody tr th {\n",
       "        vertical-align: top;\n",
       "    }\n",
       "\n",
       "    .dataframe thead th {\n",
       "        text-align: right;\n",
       "    }\n",
       "</style>\n",
       "<table border=\"1\" class=\"dataframe\">\n",
       "  <thead>\n",
       "    <tr style=\"text-align: right;\">\n",
       "      <th></th>\n",
       "      <th>text</th>\n",
       "      <th>label</th>\n",
       "      <th>split</th>\n",
       "    </tr>\n",
       "  </thead>\n",
       "  <tbody>\n",
       "    <tr>\n",
       "      <th>0</th>\n",
       "      <td>way bob corker skewer donald trump image copyr...</td>\n",
       "      <td>1</td>\n",
       "      <td>[way bob corker skewer donald trump image copy...</td>\n",
       "    </tr>\n",
       "    <tr>\n",
       "      <th>1</th>\n",
       "      <td>linklaters war veteran comedy speak modern ame...</td>\n",
       "      <td>1</td>\n",
       "      <td>[linklaters war veteran comedy speak modern am...</td>\n",
       "    </tr>\n",
       "    <tr>\n",
       "      <th>2</th>\n",
       "      <td>trump fight corker jeopardize legislative agen...</td>\n",
       "      <td>1</td>\n",
       "      <td>[trump fight corker jeopardize legislative age...</td>\n",
       "    </tr>\n",
       "    <tr>\n",
       "      <th>3</th>\n",
       "      <td>egypts cheiron win tieup pemex mexican onshore...</td>\n",
       "      <td>1</td>\n",
       "      <td>[egypts cheiron win tieup pemex mexican onshor...</td>\n",
       "    </tr>\n",
       "    <tr>\n",
       "      <th>4</th>\n",
       "      <td>jason aldean open snl vegas tribute country si...</td>\n",
       "      <td>1</td>\n",
       "      <td>[jason aldean open snl vegas tribute country s...</td>\n",
       "    </tr>\n",
       "    <tr>\n",
       "      <th>...</th>\n",
       "      <td>...</td>\n",
       "      <td>...</td>\n",
       "      <td>...</td>\n",
       "    </tr>\n",
       "    <tr>\n",
       "      <th>46547</th>\n",
       "      <td>rapper unload black celebrity meet donald trum...</td>\n",
       "      <td>0</td>\n",
       "      <td>[rapper unload black celebrity meet donald tru...</td>\n",
       "    </tr>\n",
       "    <tr>\n",
       "      <th>46548</th>\n",
       "      <td>green bay packers lose washington redskins wee...</td>\n",
       "      <td>0</td>\n",
       "      <td>[green bay packers lose washington redskins we...</td>\n",
       "    </tr>\n",
       "    <tr>\n",
       "      <th>46549</th>\n",
       "      <td>macy today grow union great name american reta...</td>\n",
       "      <td>0</td>\n",
       "      <td>[macy today grow union great name american ret...</td>\n",
       "    </tr>\n",
       "    <tr>\n",
       "      <th>46550</th>\n",
       "      <td>nato russia hold parallel exercise balkans pre...</td>\n",
       "      <td>1</td>\n",
       "      <td>[nato russia hold parallel exercise balkans pr...</td>\n",
       "    </tr>\n",
       "    <tr>\n",
       "      <th>46551</th>\n",
       "      <td>david swanson author activist journalist radio...</td>\n",
       "      <td>1</td>\n",
       "      <td>[david swanson author activist journalist radi...</td>\n",
       "    </tr>\n",
       "  </tbody>\n",
       "</table>\n",
       "<p>46548 rows × 3 columns</p>\n",
       "</div>"
      ],
      "text/plain": [
       "                                                    text  label  \\\n",
       "0      way bob corker skewer donald trump image copyr...      1   \n",
       "1      linklaters war veteran comedy speak modern ame...      1   \n",
       "2      trump fight corker jeopardize legislative agen...      1   \n",
       "3      egypts cheiron win tieup pemex mexican onshore...      1   \n",
       "4      jason aldean open snl vegas tribute country si...      1   \n",
       "...                                                  ...    ...   \n",
       "46547  rapper unload black celebrity meet donald trum...      0   \n",
       "46548  green bay packers lose washington redskins wee...      0   \n",
       "46549  macy today grow union great name american reta...      0   \n",
       "46550  nato russia hold parallel exercise balkans pre...      1   \n",
       "46551  david swanson author activist journalist radio...      1   \n",
       "\n",
       "                                                   split  \n",
       "0      [way bob corker skewer donald trump image copy...  \n",
       "1      [linklaters war veteran comedy speak modern am...  \n",
       "2      [trump fight corker jeopardize legislative age...  \n",
       "3      [egypts cheiron win tieup pemex mexican onshor...  \n",
       "4      [jason aldean open snl vegas tribute country s...  \n",
       "...                                                  ...  \n",
       "46547  [rapper unload black celebrity meet donald tru...  \n",
       "46548  [green bay packers lose washington redskins we...  \n",
       "46549  [macy today grow union great name american ret...  \n",
       "46550  [nato russia hold parallel exercise balkans pr...  \n",
       "46551  [david swanson author activist journalist radi...  \n",
       "\n",
       "[46548 rows x 3 columns]"
      ]
     },
     "execution_count": 35,
     "metadata": {},
     "output_type": "execute_result"
    }
   ],
   "source": [
    "df"
   ]
  },
  {
   "cell_type": "code",
   "execution_count": 36,
   "metadata": {},
   "outputs": [],
   "source": [
    "def make_dataframe(df: pd.DataFrame, data_col: str = \"text\",label_col: str = \"label\", split_col: str = \"split\"):\n",
    "    data: List[str] = []\n",
    "    label: List[str] = []\n",
    "    index: List[int] = []\n",
    "    for idx, row in df.iterrows():\n",
    "        for e in row[split_col]:\n",
    "            data.append(e)\n",
    "            label.append(row[label_col])\n",
    "            index.append(idx)\n",
    "    return  pd.DataFrame({\"index\": index, data_col: data, label_col: label})"
   ]
  },
  {
   "cell_type": "code",
   "execution_count": 39,
   "metadata": {},
   "outputs": [],
   "source": [
    "df = make_dataframe(df)"
   ]
  },
  {
   "cell_type": "code",
   "execution_count": 41,
   "metadata": {},
   "outputs": [
    {
     "name": "stdout",
     "output_type": "stream",
     "text": [
      "<class 'pandas.core.frame.DataFrame'>\n",
      "RangeIndex: 61073 entries, 0 to 61072\n",
      "Data columns (total 3 columns):\n",
      " #   Column  Non-Null Count  Dtype \n",
      "---  ------  --------------  ----- \n",
      " 0   index   61073 non-null  int64 \n",
      " 1   text    61073 non-null  object\n",
      " 2   label   61073 non-null  int64 \n",
      "dtypes: int64(2), object(1)\n",
      "memory usage: 1.4+ MB\n"
     ]
    }
   ],
   "source": [
    "df.info()"
   ]
  },
  {
   "cell_type": "code",
   "execution_count": 46,
   "metadata": {},
   "outputs": [
    {
     "data": {
      "text/plain": [
       "[Text(0, 0, '0'), Text(0, 0, '1')]"
      ]
     },
     "execution_count": 46,
     "metadata": {},
     "output_type": "execute_result"
    },
    {
     "data": {
      "image/png": "[encoded data removed]",
      "text/plain": [
       "<Figure size 864x576 with 1 Axes>"
      ]
     },
     "metadata": {
      "image/png": {
       "height": 505,
       "width": 747
      }
     },
     "output_type": "display_data"
    }
   ],
   "source": [
    "chart = sns.countplot(df.label, palette=HAPPY_COLORS_PALETTE)\n",
    "plt.title(\"Number of texts per intent\")\n",
    "chart.set_xticklabels(chart.get_xticklabels(), rotation=30, horizontalalignment='right')"
   ]
  },
  {
   "cell_type": "code",
   "execution_count": 47,
   "metadata": {},
   "outputs": [],
   "source": [
    "df.to_csv('final_used_preprocessed_split.csv')"
   ]
  },
  {
   "cell_type": "code",
   "execution_count": null,
   "metadata": {},
   "outputs": [],
   "source": []
  }
 ],
 "metadata": {
  "kernelspec": {
   "display_name": "Python 3 (ipykernel)",
   "language": "python",
   "name": "python3"
  },
  "language_info": {
   "codemirror_mode": {
    "name": "ipython",
    "version": 3
   },
   "file_extension": ".py",
   "mimetype": "text/x-python",
   "name": "python",
   "nbconvert_exporter": "python",
   "pygments_lexer": "ipython3",
   "version": "3.11.5"
  }
 },
 "nbformat": 4,
 "nbformat_minor": 4
}
